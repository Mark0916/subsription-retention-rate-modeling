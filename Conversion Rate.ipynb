{
 "cells": [
  {
   "cell_type": "code",
   "execution_count": 1,
   "metadata": {},
   "outputs": [],
   "source": [
    "import pandas as pd\n",
    "import numpy as np \n",
    "import seaborn as sns"
   ]
  },
  {
   "cell_type": "code",
   "execution_count": 2,
   "metadata": {},
   "outputs": [],
   "source": [
    "data = pd.read_csv('conversion_data.csv')"
   ]
  },
  {
   "cell_type": "markdown",
   "metadata": {},
   "source": [
    "# EDA"
   ]
  },
  {
   "cell_type": "markdown",
   "metadata": {},
   "source": [
    "- **Germany had the highest conversion rate with the smallest amount of users.**\n",
    "- **China had the lowest conversion rate, but held the second most of users.**"
   ]
  },
  {
   "cell_type": "code",
   "execution_count": 3,
   "metadata": {},
   "outputs": [
    {
     "data": {
      "text/html": [
       "<div>\n",
       "<style scoped>\n",
       "    .dataframe tbody tr th:only-of-type {\n",
       "        vertical-align: middle;\n",
       "    }\n",
       "\n",
       "    .dataframe tbody tr th {\n",
       "        vertical-align: top;\n",
       "    }\n",
       "\n",
       "    .dataframe thead tr th {\n",
       "        text-align: left;\n",
       "    }\n",
       "</style>\n",
       "<table border=\"1\" class=\"dataframe\">\n",
       "  <thead>\n",
       "    <tr>\n",
       "      <th></th>\n",
       "      <th>country</th>\n",
       "      <th colspan=\"2\" halign=\"left\">converted</th>\n",
       "      <th>ratio</th>\n",
       "    </tr>\n",
       "    <tr>\n",
       "      <th></th>\n",
       "      <th></th>\n",
       "      <th>sum</th>\n",
       "      <th>count</th>\n",
       "      <th></th>\n",
       "    </tr>\n",
       "  </thead>\n",
       "  <tbody>\n",
       "    <tr>\n",
       "      <th>0</th>\n",
       "      <td>China</td>\n",
       "      <td>102</td>\n",
       "      <td>76602</td>\n",
       "      <td>0.001332</td>\n",
       "    </tr>\n",
       "    <tr>\n",
       "      <th>1</th>\n",
       "      <td>Germany</td>\n",
       "      <td>816</td>\n",
       "      <td>13056</td>\n",
       "      <td>0.062500</td>\n",
       "    </tr>\n",
       "    <tr>\n",
       "      <th>2</th>\n",
       "      <td>UK</td>\n",
       "      <td>2550</td>\n",
       "      <td>48450</td>\n",
       "      <td>0.052632</td>\n",
       "    </tr>\n",
       "    <tr>\n",
       "      <th>3</th>\n",
       "      <td>US</td>\n",
       "      <td>6732</td>\n",
       "      <td>178092</td>\n",
       "      <td>0.037801</td>\n",
       "    </tr>\n",
       "  </tbody>\n",
       "</table>\n",
       "</div>"
      ],
      "text/plain": [
       "   country converted             ratio\n",
       "                 sum   count          \n",
       "0    China       102   76602  0.001332\n",
       "1  Germany       816   13056  0.062500\n",
       "2       UK      2550   48450  0.052632\n",
       "3       US      6732  178092  0.037801"
      ]
     },
     "execution_count": 3,
     "metadata": {},
     "output_type": "execute_result"
    }
   ],
   "source": [
    "a = data.groupby('country', as_index=False).agg({\"converted\": [sum, 'count']})\n",
    "a['ratio'] = a[('converted',   'sum')]/a[('converted', 'count')]\n",
    "a"
   ]
  },
  {
   "cell_type": "markdown",
   "metadata": {},
   "source": [
    "- **Ads was the most effective source of all kind, with a conversion rate 22% higher than direct sourcing and 5% better than seo.**"
   ]
  },
  {
   "cell_type": "code",
   "execution_count": 4,
   "metadata": {},
   "outputs": [
    {
     "data": {
      "text/html": [
       "<div>\n",
       "<style scoped>\n",
       "    .dataframe tbody tr th:only-of-type {\n",
       "        vertical-align: middle;\n",
       "    }\n",
       "\n",
       "    .dataframe tbody tr th {\n",
       "        vertical-align: top;\n",
       "    }\n",
       "\n",
       "    .dataframe thead tr th {\n",
       "        text-align: left;\n",
       "    }\n",
       "</style>\n",
       "<table border=\"1\" class=\"dataframe\">\n",
       "  <thead>\n",
       "    <tr>\n",
       "      <th></th>\n",
       "      <th>source</th>\n",
       "      <th colspan=\"2\" halign=\"left\">converted</th>\n",
       "      <th>ratio</th>\n",
       "    </tr>\n",
       "    <tr>\n",
       "      <th></th>\n",
       "      <th></th>\n",
       "      <th>sum</th>\n",
       "      <th>count</th>\n",
       "      <th></th>\n",
       "    </tr>\n",
       "  </thead>\n",
       "  <tbody>\n",
       "    <tr>\n",
       "      <th>0</th>\n",
       "      <td>Ads</td>\n",
       "      <td>3060</td>\n",
       "      <td>88740</td>\n",
       "      <td>0.034483</td>\n",
       "    </tr>\n",
       "    <tr>\n",
       "      <th>1</th>\n",
       "      <td>Direct</td>\n",
       "      <td>2040</td>\n",
       "      <td>72420</td>\n",
       "      <td>0.028169</td>\n",
       "    </tr>\n",
       "    <tr>\n",
       "      <th>2</th>\n",
       "      <td>Seo</td>\n",
       "      <td>5100</td>\n",
       "      <td>155040</td>\n",
       "      <td>0.032895</td>\n",
       "    </tr>\n",
       "  </tbody>\n",
       "</table>\n",
       "</div>"
      ],
      "text/plain": [
       "   source converted             ratio\n",
       "                sum   count          \n",
       "0     Ads      3060   88740  0.034483\n",
       "1  Direct      2040   72420  0.028169\n",
       "2     Seo      5100  155040  0.032895"
      ]
     },
     "execution_count": 4,
     "metadata": {},
     "output_type": "execute_result"
    }
   ],
   "source": [
    "b = data.groupby('source', as_index=False).agg({\"converted\": [sum, 'count']})\n",
    "b['ratio'] = b[('converted', 'sum')]/b[('converted','count')]\n",
    "b"
   ]
  },
  {
   "cell_type": "markdown",
   "metadata": {},
   "source": [
    "- **Previously, ads was the most effective source overall, however, when it came to new users, the differences were not as big as before.**"
   ]
  },
  {
   "cell_type": "code",
   "execution_count": 5,
   "metadata": {},
   "outputs": [
    {
     "data": {
      "text/html": [
       "<div>\n",
       "<style scoped>\n",
       "    .dataframe tbody tr th:only-of-type {\n",
       "        vertical-align: middle;\n",
       "    }\n",
       "\n",
       "    .dataframe tbody tr th {\n",
       "        vertical-align: top;\n",
       "    }\n",
       "\n",
       "    .dataframe thead tr th {\n",
       "        text-align: left;\n",
       "    }\n",
       "</style>\n",
       "<table border=\"1\" class=\"dataframe\">\n",
       "  <thead>\n",
       "    <tr>\n",
       "      <th></th>\n",
       "      <th>source</th>\n",
       "      <th>new_user</th>\n",
       "      <th colspan=\"2\" halign=\"left\">converted</th>\n",
       "      <th>ratio</th>\n",
       "    </tr>\n",
       "    <tr>\n",
       "      <th></th>\n",
       "      <th></th>\n",
       "      <th></th>\n",
       "      <th>sum</th>\n",
       "      <th>count</th>\n",
       "      <th></th>\n",
       "    </tr>\n",
       "  </thead>\n",
       "  <tbody>\n",
       "    <tr>\n",
       "      <th>0</th>\n",
       "      <td>Ads</td>\n",
       "      <td>0</td>\n",
       "      <td>2185</td>\n",
       "      <td>27891</td>\n",
       "      <td>0.078341</td>\n",
       "    </tr>\n",
       "    <tr>\n",
       "      <th>1</th>\n",
       "      <td>Ads</td>\n",
       "      <td>1</td>\n",
       "      <td>875</td>\n",
       "      <td>60849</td>\n",
       "      <td>0.014380</td>\n",
       "    </tr>\n",
       "    <tr>\n",
       "      <th>2</th>\n",
       "      <td>Direct</td>\n",
       "      <td>0</td>\n",
       "      <td>1387</td>\n",
       "      <td>22678</td>\n",
       "      <td>0.061161</td>\n",
       "    </tr>\n",
       "    <tr>\n",
       "      <th>3</th>\n",
       "      <td>Direct</td>\n",
       "      <td>1</td>\n",
       "      <td>653</td>\n",
       "      <td>49742</td>\n",
       "      <td>0.013128</td>\n",
       "    </tr>\n",
       "    <tr>\n",
       "      <th>4</th>\n",
       "      <td>Seo</td>\n",
       "      <td>0</td>\n",
       "      <td>3589</td>\n",
       "      <td>48887</td>\n",
       "      <td>0.073414</td>\n",
       "    </tr>\n",
       "    <tr>\n",
       "      <th>5</th>\n",
       "      <td>Seo</td>\n",
       "      <td>1</td>\n",
       "      <td>1511</td>\n",
       "      <td>106153</td>\n",
       "      <td>0.014234</td>\n",
       "    </tr>\n",
       "  </tbody>\n",
       "</table>\n",
       "</div>"
      ],
      "text/plain": [
       "   source new_user converted             ratio\n",
       "                         sum   count          \n",
       "0     Ads        0      2185   27891  0.078341\n",
       "1     Ads        1       875   60849  0.014380\n",
       "2  Direct        0      1387   22678  0.061161\n",
       "3  Direct        1       653   49742  0.013128\n",
       "4     Seo        0      3589   48887  0.073414\n",
       "5     Seo        1      1511  106153  0.014234"
      ]
     },
     "execution_count": 5,
     "metadata": {},
     "output_type": "execute_result"
    }
   ],
   "source": [
    "c = data.groupby(['source', 'new_user'], as_index=False).agg({\"converted\": [sum, 'count']})\n",
    "c['ratio'] = c[('converted', 'sum')]/c[('converted','count')]\n",
    "c"
   ]
  },
  {
   "cell_type": "markdown",
   "metadata": {},
   "source": [
    "- **While direct sourcing had been shown the least effective approach in the previous analysis, for Chinese new users, it was significantly better the others.**"
   ]
  },
  {
   "cell_type": "code",
   "execution_count": 6,
   "metadata": {
    "scrolled": true
   },
   "outputs": [
    {
     "data": {
      "text/html": [
       "<div>\n",
       "<style scoped>\n",
       "    .dataframe tbody tr th:only-of-type {\n",
       "        vertical-align: middle;\n",
       "    }\n",
       "\n",
       "    .dataframe tbody tr th {\n",
       "        vertical-align: top;\n",
       "    }\n",
       "\n",
       "    .dataframe thead tr th {\n",
       "        text-align: left;\n",
       "    }\n",
       "</style>\n",
       "<table border=\"1\" class=\"dataframe\">\n",
       "  <thead>\n",
       "    <tr>\n",
       "      <th></th>\n",
       "      <th>country</th>\n",
       "      <th>new_user</th>\n",
       "      <th>source</th>\n",
       "      <th colspan=\"2\" halign=\"left\">converted</th>\n",
       "      <th>ratio</th>\n",
       "    </tr>\n",
       "    <tr>\n",
       "      <th></th>\n",
       "      <th></th>\n",
       "      <th></th>\n",
       "      <th></th>\n",
       "      <th>sum</th>\n",
       "      <th>count</th>\n",
       "      <th></th>\n",
       "    </tr>\n",
       "  </thead>\n",
       "  <tbody>\n",
       "    <tr>\n",
       "      <th>0</th>\n",
       "      <td>China</td>\n",
       "      <td>0</td>\n",
       "      <td>Ads</td>\n",
       "      <td>22</td>\n",
       "      <td>6541</td>\n",
       "      <td>0.003363</td>\n",
       "    </tr>\n",
       "    <tr>\n",
       "      <th>1</th>\n",
       "      <td>China</td>\n",
       "      <td>0</td>\n",
       "      <td>Direct</td>\n",
       "      <td>14</td>\n",
       "      <td>5262</td>\n",
       "      <td>0.002661</td>\n",
       "    </tr>\n",
       "    <tr>\n",
       "      <th>2</th>\n",
       "      <td>China</td>\n",
       "      <td>0</td>\n",
       "      <td>Seo</td>\n",
       "      <td>30</td>\n",
       "      <td>11291</td>\n",
       "      <td>0.002657</td>\n",
       "    </tr>\n",
       "    <tr>\n",
       "      <th>3</th>\n",
       "      <td>China</td>\n",
       "      <td>1</td>\n",
       "      <td>Ads</td>\n",
       "      <td>10</td>\n",
       "      <td>15020</td>\n",
       "      <td>0.000666</td>\n",
       "    </tr>\n",
       "    <tr>\n",
       "      <th>4</th>\n",
       "      <td>China</td>\n",
       "      <td>1</td>\n",
       "      <td>Direct</td>\n",
       "      <td>10</td>\n",
       "      <td>12201</td>\n",
       "      <td>0.000820</td>\n",
       "    </tr>\n",
       "    <tr>\n",
       "      <th>5</th>\n",
       "      <td>China</td>\n",
       "      <td>1</td>\n",
       "      <td>Seo</td>\n",
       "      <td>16</td>\n",
       "      <td>26287</td>\n",
       "      <td>0.000609</td>\n",
       "    </tr>\n",
       "    <tr>\n",
       "      <th>6</th>\n",
       "      <td>Germany</td>\n",
       "      <td>0</td>\n",
       "      <td>Ads</td>\n",
       "      <td>189</td>\n",
       "      <td>1224</td>\n",
       "      <td>0.154412</td>\n",
       "    </tr>\n",
       "    <tr>\n",
       "      <th>7</th>\n",
       "      <td>Germany</td>\n",
       "      <td>0</td>\n",
       "      <td>Direct</td>\n",
       "      <td>105</td>\n",
       "      <td>902</td>\n",
       "      <td>0.116408</td>\n",
       "    </tr>\n",
       "    <tr>\n",
       "      <th>8</th>\n",
       "      <td>Germany</td>\n",
       "      <td>0</td>\n",
       "      <td>Seo</td>\n",
       "      <td>295</td>\n",
       "      <td>2088</td>\n",
       "      <td>0.141284</td>\n",
       "    </tr>\n",
       "    <tr>\n",
       "      <th>9</th>\n",
       "      <td>Germany</td>\n",
       "      <td>1</td>\n",
       "      <td>Ads</td>\n",
       "      <td>62</td>\n",
       "      <td>2536</td>\n",
       "      <td>0.024448</td>\n",
       "    </tr>\n",
       "    <tr>\n",
       "      <th>10</th>\n",
       "      <td>Germany</td>\n",
       "      <td>1</td>\n",
       "      <td>Direct</td>\n",
       "      <td>48</td>\n",
       "      <td>1962</td>\n",
       "      <td>0.024465</td>\n",
       "    </tr>\n",
       "    <tr>\n",
       "      <th>11</th>\n",
       "      <td>Germany</td>\n",
       "      <td>1</td>\n",
       "      <td>Seo</td>\n",
       "      <td>117</td>\n",
       "      <td>4344</td>\n",
       "      <td>0.026934</td>\n",
       "    </tr>\n",
       "    <tr>\n",
       "      <th>12</th>\n",
       "      <td>UK</td>\n",
       "      <td>0</td>\n",
       "      <td>Ads</td>\n",
       "      <td>539</td>\n",
       "      <td>4301</td>\n",
       "      <td>0.125320</td>\n",
       "    </tr>\n",
       "    <tr>\n",
       "      <th>13</th>\n",
       "      <td>UK</td>\n",
       "      <td>0</td>\n",
       "      <td>Direct</td>\n",
       "      <td>331</td>\n",
       "      <td>3500</td>\n",
       "      <td>0.094571</td>\n",
       "    </tr>\n",
       "    <tr>\n",
       "      <th>14</th>\n",
       "      <td>UK</td>\n",
       "      <td>0</td>\n",
       "      <td>Seo</td>\n",
       "      <td>904</td>\n",
       "      <td>7711</td>\n",
       "      <td>0.117235</td>\n",
       "    </tr>\n",
       "    <tr>\n",
       "      <th>15</th>\n",
       "      <td>UK</td>\n",
       "      <td>1</td>\n",
       "      <td>Ads</td>\n",
       "      <td>213</td>\n",
       "      <td>9217</td>\n",
       "      <td>0.023109</td>\n",
       "    </tr>\n",
       "    <tr>\n",
       "      <th>16</th>\n",
       "      <td>UK</td>\n",
       "      <td>1</td>\n",
       "      <td>Direct</td>\n",
       "      <td>184</td>\n",
       "      <td>7631</td>\n",
       "      <td>0.024112</td>\n",
       "    </tr>\n",
       "    <tr>\n",
       "      <th>17</th>\n",
       "      <td>UK</td>\n",
       "      <td>1</td>\n",
       "      <td>Seo</td>\n",
       "      <td>379</td>\n",
       "      <td>16090</td>\n",
       "      <td>0.023555</td>\n",
       "    </tr>\n",
       "    <tr>\n",
       "      <th>18</th>\n",
       "      <td>US</td>\n",
       "      <td>0</td>\n",
       "      <td>Ads</td>\n",
       "      <td>1435</td>\n",
       "      <td>15825</td>\n",
       "      <td>0.090679</td>\n",
       "    </tr>\n",
       "    <tr>\n",
       "      <th>19</th>\n",
       "      <td>US</td>\n",
       "      <td>0</td>\n",
       "      <td>Direct</td>\n",
       "      <td>937</td>\n",
       "      <td>13014</td>\n",
       "      <td>0.071999</td>\n",
       "    </tr>\n",
       "    <tr>\n",
       "      <th>20</th>\n",
       "      <td>US</td>\n",
       "      <td>0</td>\n",
       "      <td>Seo</td>\n",
       "      <td>2360</td>\n",
       "      <td>27797</td>\n",
       "      <td>0.084901</td>\n",
       "    </tr>\n",
       "    <tr>\n",
       "      <th>21</th>\n",
       "      <td>US</td>\n",
       "      <td>1</td>\n",
       "      <td>Ads</td>\n",
       "      <td>590</td>\n",
       "      <td>34076</td>\n",
       "      <td>0.017314</td>\n",
       "    </tr>\n",
       "    <tr>\n",
       "      <th>22</th>\n",
       "      <td>US</td>\n",
       "      <td>1</td>\n",
       "      <td>Direct</td>\n",
       "      <td>411</td>\n",
       "      <td>27948</td>\n",
       "      <td>0.014706</td>\n",
       "    </tr>\n",
       "    <tr>\n",
       "      <th>23</th>\n",
       "      <td>US</td>\n",
       "      <td>1</td>\n",
       "      <td>Seo</td>\n",
       "      <td>999</td>\n",
       "      <td>59432</td>\n",
       "      <td>0.016809</td>\n",
       "    </tr>\n",
       "  </tbody>\n",
       "</table>\n",
       "</div>"
      ],
      "text/plain": [
       "    country new_user  source converted            ratio\n",
       "                                   sum  count          \n",
       "0     China        0     Ads        22   6541  0.003363\n",
       "1     China        0  Direct        14   5262  0.002661\n",
       "2     China        0     Seo        30  11291  0.002657\n",
       "3     China        1     Ads        10  15020  0.000666\n",
       "4     China        1  Direct        10  12201  0.000820\n",
       "5     China        1     Seo        16  26287  0.000609\n",
       "6   Germany        0     Ads       189   1224  0.154412\n",
       "7   Germany        0  Direct       105    902  0.116408\n",
       "8   Germany        0     Seo       295   2088  0.141284\n",
       "9   Germany        1     Ads        62   2536  0.024448\n",
       "10  Germany        1  Direct        48   1962  0.024465\n",
       "11  Germany        1     Seo       117   4344  0.026934\n",
       "12       UK        0     Ads       539   4301  0.125320\n",
       "13       UK        0  Direct       331   3500  0.094571\n",
       "14       UK        0     Seo       904   7711  0.117235\n",
       "15       UK        1     Ads       213   9217  0.023109\n",
       "16       UK        1  Direct       184   7631  0.024112\n",
       "17       UK        1     Seo       379  16090  0.023555\n",
       "18       US        0     Ads      1435  15825  0.090679\n",
       "19       US        0  Direct       937  13014  0.071999\n",
       "20       US        0     Seo      2360  27797  0.084901\n",
       "21       US        1     Ads       590  34076  0.017314\n",
       "22       US        1  Direct       411  27948  0.014706\n",
       "23       US        1     Seo       999  59432  0.016809"
      ]
     },
     "execution_count": 6,
     "metadata": {},
     "output_type": "execute_result"
    }
   ],
   "source": [
    "d = data.groupby(['country', 'new_user', 'source'], as_index=False).agg({\"converted\": [sum, 'count']})\n",
    "d['ratio'] = d[('converted', 'sum')]/d[('converted','count')]\n",
    "d\n",
    "# d.sort_values('ratio', ascending=False)"
   ]
  },
  {
   "cell_type": "markdown",
   "metadata": {},
   "source": [
    "- **Regardless of new user or not, the conversion rate is positively correlated with the total visited pages, this is especially true for returning users.**"
   ]
  },
  {
   "cell_type": "code",
   "execution_count": 7,
   "metadata": {},
   "outputs": [
    {
     "data": {
      "text/plain": [
       "<matplotlib.axes._subplots.AxesSubplot at 0x267a9a1c4a8>"
      ]
     },
     "execution_count": 7,
     "metadata": {},
     "output_type": "execute_result"
    },
    {
     "data": {
      "image/png": "[encoded data removed]",
      "text/plain": [
       "<Figure size 720x504 with 1 Axes>"
      ]
     },
     "metadata": {},
     "output_type": "display_data"
    }
   ],
   "source": [
    "sns.set(rc={'figure.figsize':(10, 7)})\n",
    "sns.boxplot(data=data, y='total_pages_visited', x='converted', hue='new_user')"
   ]
  },
  {
   "cell_type": "markdown",
   "metadata": {},
   "source": [
    "- **Younger users were more likely to convert.**"
   ]
  },
  {
   "cell_type": "code",
   "execution_count": 20,
   "metadata": {},
   "outputs": [
    {
     "data": {
      "text/plain": [
       "<matplotlib.axes._subplots.AxesSubplot at 0x267b11f9048>"
      ]
     },
     "execution_count": 20,
     "metadata": {},
     "output_type": "execute_result"
    },
    {
     "data": {
      "image/png": "[encoded data removed]",
      "text/plain": [
       "<Figure size 720x504 with 1 Axes>"
      ]
     },
     "metadata": {},
     "output_type": "display_data"
    }
   ],
   "source": [
    "sns.set(rc={'figure.figsize':(10, 7)})\n",
    "sns.boxplot(data=data, y='age', x='converted', hue='new_user')"
   ]
  },
  {
   "cell_type": "markdown",
   "metadata": {},
   "source": [
    "- **In the previous section, we found that converted users visited more pages and younger people were more likely to convert, the scatter plot below reveals that younger people were more likely to click on more pages, therefore, we probably should focus on targeting young users.**"
   ]
  },
  {
   "cell_type": "code",
   "execution_count": 26,
   "metadata": {
    "scrolled": false
   },
   "outputs": [
    {
     "data": {
      "text/plain": [
       "<matplotlib.axes._subplots.AxesSubplot at 0x2264814b198>"
      ]
     },
     "execution_count": 26,
     "metadata": {},
     "output_type": "execute_result"
    },
    {
     "data": {
      "image/png": "[encoded data removed]",
      "text/plain": [
       "<Figure size 720x504 with 1 Axes>"
      ]
     },
     "metadata": {},
     "output_type": "display_data"
    }
   ],
   "source": [
    "sns.scatterplot(data=data, y='age', x='total_pages_visited')"
   ]
  },
  {
   "cell_type": "markdown",
   "metadata": {},
   "source": [
    "# Prediction"
   ]
  },
  {
   "cell_type": "code",
   "execution_count": 22,
   "metadata": {},
   "outputs": [],
   "source": [
    "from sklearn.preprocessing import LabelEncoder, MinMaxScaler\n",
    "from sklearn.model_selection import train_test_split\n",
    "from sklearn.metrics import confusion_matrix, recall_score, roc_curve, auc, accuracy_score, precision_score, f1_score"
   ]
  },
  {
   "cell_type": "code",
   "execution_count": 25,
   "metadata": {},
   "outputs": [],
   "source": [
    "data_model = data.copy()"
   ]
  },
  {
   "cell_type": "code",
   "execution_count": 26,
   "metadata": {},
   "outputs": [],
   "source": [
    "le = LabelEncoder()\n",
    "data_model['country'] = le.fit_transform(data_model['country'])\n",
    "data_model['source'] = le.fit_transform(data_model['source'])"
   ]
  },
  {
   "cell_type": "code",
   "execution_count": 27,
   "metadata": {},
   "outputs": [],
   "source": [
    "scaler = MinMaxScaler()\n",
    "data_model['age'] = scaler.fit_transform(data_model[['age']])\n",
    "data_model['total_pages_visited'] = scaler.fit_transform(data_model[['total_pages_visited']])"
   ]
  },
  {
   "cell_type": "code",
   "execution_count": 28,
   "metadata": {},
   "outputs": [],
   "source": [
    "X_train, X_test, y_train, y_test = train_test_split(data_model[['country','age','new_user','total_pages_visited','source']],\n",
    "                                                   data_model['converted'], test_size=0.2, stratify=data_model['converted'])"
   ]
  },
  {
   "cell_type": "markdown",
   "metadata": {},
   "source": [
    "## Logistic regression"
   ]
  },
  {
   "cell_type": "code",
   "execution_count": 29,
   "metadata": {},
   "outputs": [],
   "source": [
    "from sklearn.linear_model import LogisticRegression"
   ]
  },
  {
   "cell_type": "code",
   "execution_count": 30,
   "metadata": {
    "scrolled": true
   },
   "outputs": [],
   "source": [
    "clf_lr = LogisticRegression(random_state=0).fit(X_train, y_train)"
   ]
  },
  {
   "cell_type": "code",
   "execution_count": 31,
   "metadata": {},
   "outputs": [
    {
     "data": {
      "text/plain": [
       "0.8333415032679737"
      ]
     },
     "execution_count": 31,
     "metadata": {},
     "output_type": "execute_result"
    }
   ],
   "source": [
    "pred_lr = clf_lr.predict(X_test)\n",
    "fpr, tpr, thresholds = roc_curve(y_test, pred_lr)\n",
    "auc(fpr, tpr)"
   ]
  },
  {
   "cell_type": "markdown",
   "metadata": {},
   "source": [
    "## Decision tree"
   ]
  },
  {
   "cell_type": "code",
   "execution_count": 32,
   "metadata": {},
   "outputs": [],
   "source": [
    "from sklearn.tree import DecisionTreeClassifier\n",
    "from sklearn import tree"
   ]
  },
  {
   "cell_type": "code",
   "execution_count": 33,
   "metadata": {},
   "outputs": [],
   "source": [
    "clf_dt = DecisionTreeClassifier(random_state=0).fit(X_train, y_train)"
   ]
  },
  {
   "cell_type": "code",
   "execution_count": 34,
   "metadata": {},
   "outputs": [
    {
     "data": {
      "text/plain": [
       "0.8283496732026143"
      ]
     },
     "execution_count": 34,
     "metadata": {},
     "output_type": "execute_result"
    }
   ],
   "source": [
    "pred_dt = clf_dt.predict(X_test)\n",
    "fpr, tpr, thresholds = roc_curve(y_test, pred_dt)\n",
    "auc(fpr, tpr)"
   ]
  },
  {
   "cell_type": "markdown",
   "metadata": {},
   "source": [
    "## Random forest"
   ]
  },
  {
   "cell_type": "code",
   "execution_count": 35,
   "metadata": {},
   "outputs": [],
   "source": [
    "from sklearn.ensemble import RandomForestClassifier"
   ]
  },
  {
   "cell_type": "code",
   "execution_count": 36,
   "metadata": {},
   "outputs": [],
   "source": [
    "clf_rf = RandomForestClassifier(max_depth=20,random_state=42).fit(X_train, y_train)"
   ]
  },
  {
   "cell_type": "code",
   "execution_count": 37,
   "metadata": {},
   "outputs": [
    {
     "data": {
      "text/plain": [
       "0.9848829854522454"
      ]
     },
     "execution_count": 37,
     "metadata": {},
     "output_type": "execute_result"
    }
   ],
   "source": [
    "clf_rf.score(X_test, y_test)"
   ]
  },
  {
   "cell_type": "code",
   "execution_count": 38,
   "metadata": {},
   "outputs": [
    {
     "data": {
      "text/plain": [
       "0.8396078431372548"
      ]
     },
     "execution_count": 38,
     "metadata": {},
     "output_type": "execute_result"
    }
   ],
   "source": [
    "pred_rf = clf_rf.predict(X_test)\n",
    "fpr, tpr, thresholds = roc_curve(y_test, pred_rf)\n",
    "auc(fpr, tpr)"
   ]
  },
  {
   "cell_type": "markdown",
   "metadata": {},
   "source": [
    "## XgBoost"
   ]
  },
  {
   "cell_type": "code",
   "execution_count": 39,
   "metadata": {},
   "outputs": [],
   "source": [
    "from xgboost import XGBClassifier\n",
    "from xgboost import plot_tree\n",
    "import xgboost  as xgb"
   ]
  },
  {
   "cell_type": "code",
   "execution_count": 40,
   "metadata": {},
   "outputs": [],
   "source": [
    "clf_xgb = XGBClassifier(objective='binary:logistic')"
   ]
  },
  {
   "cell_type": "code",
   "execution_count": 44,
   "metadata": {
    "scrolled": true
   },
   "outputs": [
    {
     "name": "stderr",
     "output_type": "stream",
     "text": [
      "C:\\Users\\EDZ\\Anaconda3\\lib\\site-packages\\xgboost\\sklearn.py:1146: UserWarning: The use of label encoder in XGBClassifier is deprecated and will be removed in a future release. To remove this warning, do the following: 1) Pass option use_label_encoder=False when constructing XGBClassifier object; and 2) Encode your labels (y) as integers starting with 0, i.e. 0, 1, 2, ..., [num_class - 1].\n",
      "  warnings.warn(label_encoder_deprecation_msg, UserWarning)\n"
     ]
    },
    {
     "data": {
      "text/plain": [
       "XGBClassifier(base_score=0.5, booster='gbtree', colsample_bylevel=1,\n",
       "              colsample_bynode=1, colsample_bytree=1, gamma=0, gpu_id=-1,\n",
       "              importance_type='gain', interaction_constraints='',\n",
       "              learning_rate=0.300000012, max_delta_step=0, max_depth=6,\n",
       "              min_child_weight=1, missing=nan, monotone_constraints='()',\n",
       "              n_estimators=100, n_jobs=6, num_parallel_tree=1,\n",
       "              objective='binary:logistic', random_state=0, reg_alpha=0,\n",
       "              reg_lambda=1, scale_pos_weight=1, subsample=1,\n",
       "              tree_method='exact', use_label_encoder=True,\n",
       "              validate_parameters=1, verbosity=None)"
      ]
     },
     "execution_count": 44,
     "metadata": {},
     "output_type": "execute_result"
    }
   ],
   "source": [
    "clf_xgb.fit(X_train, y_train, eval_metric=\"auc\", eval_set=[(X_test, y_test)], verbose=False)"
   ]
  },
  {
   "cell_type": "code",
   "execution_count": 42,
   "metadata": {},
   "outputs": [
    {
     "name": "stderr",
     "output_type": "stream",
     "text": [
      "C:\\Users\\EDZ\\Anaconda3\\lib\\site-packages\\xgboost\\data.py:114: UserWarning: Use subset (sliced data) of np.ndarray is not recommended because it will generate extra copies and increase memory consumption\n",
      "  \"because it will generate extra copies and increase \" +\n"
     ]
    },
    {
     "data": {
      "text/plain": [
       "0.8441013071895425"
      ]
     },
     "execution_count": 42,
     "metadata": {},
     "output_type": "execute_result"
    }
   ],
   "source": [
    "pred_xgb = clf_xgb.predict(X_test)\n",
    "fpr, tpr, thresholds = roc_curve(y_test, pred_xgb)\n",
    "auc(fpr, tpr)"
   ]
  },
  {
   "cell_type": "code",
   "execution_count": 32,
   "metadata": {},
   "outputs": [
    {
     "data": {
      "text/plain": [
       "0.98617963314358"
      ]
     },
     "execution_count": 32,
     "metadata": {},
     "output_type": "execute_result"
    }
   ],
   "source": [
    "accuracy_score(y_test, pred_xgb)"
   ]
  },
  {
   "cell_type": "code",
   "execution_count": 43,
   "metadata": {},
   "outputs": [
    {
     "data": {
      "text/plain": [
       "<matplotlib.axes._subplots.AxesSubplot at 0x267c26bfd68>"
      ]
     },
     "execution_count": 43,
     "metadata": {},
     "output_type": "execute_result"
    },
    {
     "data": {
      "image/png": "[encoded data removed]",
      "text/plain": [
       "<Figure size 720x504 with 1 Axes>"
      ]
     },
     "metadata": {},
     "output_type": "display_data"
    }
   ],
   "source": [
    "from xgboost import plot_importance\n",
    "plot_importance(clf_xgb)"
   ]
  },
  {
   "cell_type": "markdown",
   "metadata": {},
   "source": [
    "# Conclusion:\n",
    "- **Marketing resources tilt towards Germany might be a good idea as it had the highest conversion rate.**\n",
    "- **Something might be off in China as it had the lowest conversion rate, but held the second most of users, investigation is worthy to look for growing opportunities** \n",
    "- **If allowed, ads should be promoting because it was the most effective source of all kind but less effective for new users, ads that target old users probably has the highest return.**\n",
    "- **Direct sourcing worked surprisingly well for Chinese new users, it might be abnormal because the whole cohort was acting differently, again investigation is highly recommended.**\n",
    "- **When predicting the conversion rate, age was the most important feature, marketing target around younger users would make the most sense.**"
   ]
  }
 ],
 "metadata": {
  "kernelspec": {
   "display_name": "Python 3",
   "language": "python",
   "name": "python3"
  },
  "language_info": {
   "codemirror_mode": {
    "name": "ipython",
    "version": 3
   },
   "file_extension": ".py",
   "mimetype": "text/x-python",
   "name": "python",
   "nbconvert_exporter": "python",
   "pygments_lexer": "ipython3",
   "version": "3.7.3"
  },
  "toc": {
   "base_numbering": 1,
   "nav_menu": {},
   "number_sections": true,
   "sideBar": true,
   "skip_h1_title": false,
   "title_cell": "Table of Contents",
   "title_sidebar": "Contents",
   "toc_cell": false,
   "toc_position": {},
   "toc_section_display": true,
   "toc_window_display": false
  },
  "varInspector": {
   "cols": {
    "lenName": 16,
    "lenType": 16,
    "lenVar": 40
   },
   "kernels_config": {
    "python": {
     "delete_cmd_postfix": "",
     "delete_cmd_prefix": "del ",
     "library": "var_list.py",
     "varRefreshCmd": "print(var_dic_list())"
    },
    "r": {
     "delete_cmd_postfix": ") ",
     "delete_cmd_prefix": "rm(",
     "library": "var_list.r",
     "varRefreshCmd": "cat(var_dic_list()) "
    }
   },
   "types_to_exclude": [
    "module",
    "function",
    "builtin_function_or_method",
    "instance",
    "_Feature"
   ],
   "window_display": false
  }
 },
 "nbformat": 4,
 "nbformat_minor": 2
}
